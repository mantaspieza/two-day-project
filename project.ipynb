{
 "cells": [
  {
   "cell_type": "code",
   "execution_count": 1,
   "metadata": {},
   "outputs": [
    {
     "data": {
      "application/javascript": "\n            setTimeout(function() {\n                var nbb_cell_id = 1;\n                var nbb_unformatted_code = \"%load_ext nb_black \";\n                var nbb_formatted_code = \"%load_ext nb_black\";\n                var nbb_cells = Jupyter.notebook.get_cells();\n                for (var i = 0; i < nbb_cells.length; ++i) {\n                    if (nbb_cells[i].input_prompt_number == nbb_cell_id) {\n                        if (nbb_cells[i].get_text() == nbb_unformatted_code) {\n                             nbb_cells[i].set_text(nbb_formatted_code);\n                        }\n                        break;\n                    }\n                }\n            }, 500);\n            ",
      "text/plain": [
       "<IPython.core.display.Javascript object>"
      ]
     },
     "metadata": {},
     "output_type": "display_data"
    }
   ],
   "source": [
    "%load_ext nb_black "
   ]
  },
  {
   "cell_type": "code",
   "execution_count": 2,
   "metadata": {},
   "outputs": [
    {
     "data": {
      "text/html": [
       "<style>.container { width:90% !important; }</style>"
      ],
      "text/plain": [
       "<IPython.core.display.HTML object>"
      ]
     },
     "metadata": {},
     "output_type": "display_data"
    },
    {
     "data": {
      "application/javascript": "\n            setTimeout(function() {\n                var nbb_cell_id = 2;\n                var nbb_unformatted_code = \"import pandas as pd\\nimport numpy as np\\n\\nimport seaborn as sns\\n\\nfrom IPython.display import display, HTML\\n\\npd.set_option(\\\"display.max_columns\\\", 500)\\ndisplay(HTML(\\\"<style>.container { width:90% !important; }</style>\\\"))\";\n                var nbb_formatted_code = \"import pandas as pd\\nimport numpy as np\\n\\nimport seaborn as sns\\n\\nfrom IPython.display import display, HTML\\n\\npd.set_option(\\\"display.max_columns\\\", 500)\\ndisplay(HTML(\\\"<style>.container { width:90% !important; }</style>\\\"))\";\n                var nbb_cells = Jupyter.notebook.get_cells();\n                for (var i = 0; i < nbb_cells.length; ++i) {\n                    if (nbb_cells[i].input_prompt_number == nbb_cell_id) {\n                        if (nbb_cells[i].get_text() == nbb_unformatted_code) {\n                             nbb_cells[i].set_text(nbb_formatted_code);\n                        }\n                        break;\n                    }\n                }\n            }, 500);\n            ",
      "text/plain": [
       "<IPython.core.display.Javascript object>"
      ]
     },
     "metadata": {},
     "output_type": "display_data"
    }
   ],
   "source": [
    "import pandas as pd\n",
    "import numpy as np\n",
    "\n",
    "import seaborn as sns\n",
    "\n",
    "from IPython.display import display, HTML\n",
    "\n",
    "pd.set_option(\"display.max_columns\", 500)\n",
    "display(HTML(\"<style>.container { width:90% !important; }</style>\"))"
   ]
  },
  {
   "cell_type": "code",
   "execution_count": 3,
   "metadata": {},
   "outputs": [
    {
     "data": {
      "text/html": [
       "<div>\n",
       "<style scoped>\n",
       "    .dataframe tbody tr th:only-of-type {\n",
       "        vertical-align: middle;\n",
       "    }\n",
       "\n",
       "    .dataframe tbody tr th {\n",
       "        vertical-align: top;\n",
       "    }\n",
       "\n",
       "    .dataframe thead th {\n",
       "        text-align: right;\n",
       "    }\n",
       "</style>\n",
       "<table border=\"1\" class=\"dataframe\">\n",
       "  <thead>\n",
       "    <tr style=\"text-align: right;\">\n",
       "      <th></th>\n",
       "      <th>PassengerId</th>\n",
       "      <th>Survived</th>\n",
       "      <th>Pclass</th>\n",
       "      <th>Name</th>\n",
       "      <th>Sex</th>\n",
       "      <th>Age</th>\n",
       "      <th>SibSp</th>\n",
       "      <th>Parch</th>\n",
       "      <th>Ticket</th>\n",
       "      <th>Fare</th>\n",
       "      <th>Cabin</th>\n",
       "      <th>Embarked</th>\n",
       "      <th>WikiId</th>\n",
       "      <th>Name_wiki</th>\n",
       "      <th>Age_wiki</th>\n",
       "      <th>Hometown</th>\n",
       "      <th>Boarded</th>\n",
       "      <th>Destination</th>\n",
       "      <th>Lifeboat</th>\n",
       "      <th>Body</th>\n",
       "      <th>Class</th>\n",
       "    </tr>\n",
       "  </thead>\n",
       "  <tbody>\n",
       "    <tr>\n",
       "      <th>1340</th>\n",
       "      <td>1276</td>\n",
       "      <td>NaN</td>\n",
       "      <td>2</td>\n",
       "      <td>Wheeler, Mr. Edwin Frederick\"\"</td>\n",
       "      <td>male</td>\n",
       "      <td>NaN</td>\n",
       "      <td>0</td>\n",
       "      <td>0</td>\n",
       "      <td>SC/PARIS 2159</td>\n",
       "      <td>12.875</td>\n",
       "      <td>NaN</td>\n",
       "      <td>S</td>\n",
       "      <td>601.0</td>\n",
       "      <td>Wheeler, Mr. Edwin Charles \"Fred\"</td>\n",
       "      <td>24.0</td>\n",
       "      <td>Bath, Somerset, England</td>\n",
       "      <td>Southampton</td>\n",
       "      <td>Asheville, North Carolina, US</td>\n",
       "      <td>NaN</td>\n",
       "      <td>NaN</td>\n",
       "      <td>2.0</td>\n",
       "    </tr>\n",
       "    <tr>\n",
       "      <th>1679</th>\n",
       "      <td>1119</td>\n",
       "      <td>NaN</td>\n",
       "      <td>3</td>\n",
       "      <td>McNeill, Miss. Bridget</td>\n",
       "      <td>female</td>\n",
       "      <td>NaN</td>\n",
       "      <td>0</td>\n",
       "      <td>0</td>\n",
       "      <td>370368</td>\n",
       "      <td>7.750</td>\n",
       "      <td>NaN</td>\n",
       "      <td>Q</td>\n",
       "      <td>1019.0</td>\n",
       "      <td>McNeill, Miss Bridget</td>\n",
       "      <td>27.0</td>\n",
       "      <td>Trien, Roscommon, Ireland</td>\n",
       "      <td>Queenstown</td>\n",
       "      <td>New York City</td>\n",
       "      <td>NaN</td>\n",
       "      <td>NaN</td>\n",
       "      <td>3.0</td>\n",
       "    </tr>\n",
       "    <tr>\n",
       "      <th>450</th>\n",
       "      <td>841</td>\n",
       "      <td>0.0</td>\n",
       "      <td>3</td>\n",
       "      <td>Alhomaki, Mr. Ilmari Rudolf</td>\n",
       "      <td>male</td>\n",
       "      <td>20.0</td>\n",
       "      <td>0</td>\n",
       "      <td>0</td>\n",
       "      <td>SOTON/O2 3101287</td>\n",
       "      <td>7.925</td>\n",
       "      <td>NaN</td>\n",
       "      <td>S</td>\n",
       "      <td>624.0</td>\n",
       "      <td>Alhomäki, Mr. Ilmari Rudolf</td>\n",
       "      <td>19.0</td>\n",
       "      <td>Salo, Finland</td>\n",
       "      <td>Southampton</td>\n",
       "      <td>Astoria, Oregon, US</td>\n",
       "      <td>NaN</td>\n",
       "      <td>NaN</td>\n",
       "      <td>3.0</td>\n",
       "    </tr>\n",
       "    <tr>\n",
       "      <th>718</th>\n",
       "      <td>284</td>\n",
       "      <td>1.0</td>\n",
       "      <td>3</td>\n",
       "      <td>Dorking, Mr. Edward Arthur</td>\n",
       "      <td>male</td>\n",
       "      <td>19.0</td>\n",
       "      <td>0</td>\n",
       "      <td>0</td>\n",
       "      <td>A/5. 10482</td>\n",
       "      <td>8.050</td>\n",
       "      <td>NaN</td>\n",
       "      <td>S</td>\n",
       "      <td>784.0</td>\n",
       "      <td>Dorking, Mr. Edward Arthur</td>\n",
       "      <td>18.0</td>\n",
       "      <td>Liss, Hampshire, England</td>\n",
       "      <td>Southampton</td>\n",
       "      <td>Oglesby, Illinois, US</td>\n",
       "      <td>B</td>\n",
       "      <td>NaN</td>\n",
       "      <td>3.0</td>\n",
       "    </tr>\n",
       "    <tr>\n",
       "      <th>329</th>\n",
       "      <td>264</td>\n",
       "      <td>0.0</td>\n",
       "      <td>1</td>\n",
       "      <td>Harrison, Mr. William</td>\n",
       "      <td>male</td>\n",
       "      <td>40.0</td>\n",
       "      <td>0</td>\n",
       "      <td>0</td>\n",
       "      <td>112059</td>\n",
       "      <td>0.000</td>\n",
       "      <td>B94</td>\n",
       "      <td>S</td>\n",
       "      <td>172.0</td>\n",
       "      <td>and secretary, Mr. William Henry Harrison</td>\n",
       "      <td>45.0</td>\n",
       "      <td>Wallasey, Merseyside, England, UK</td>\n",
       "      <td>Southampton</td>\n",
       "      <td>New York, New York, US</td>\n",
       "      <td>NaN</td>\n",
       "      <td>110MB</td>\n",
       "      <td>1.0</td>\n",
       "    </tr>\n",
       "  </tbody>\n",
       "</table>\n",
       "</div>"
      ],
      "text/plain": [
       "      PassengerId  Survived  Pclass                            Name     Sex  \\\n",
       "1340         1276       NaN       2  Wheeler, Mr. Edwin Frederick\"\"    male   \n",
       "1679         1119       NaN       3          McNeill, Miss. Bridget  female   \n",
       "450           841       0.0       3     Alhomaki, Mr. Ilmari Rudolf    male   \n",
       "718           284       1.0       3      Dorking, Mr. Edward Arthur    male   \n",
       "329           264       0.0       1           Harrison, Mr. William    male   \n",
       "\n",
       "       Age  SibSp  Parch            Ticket    Fare Cabin Embarked  WikiId  \\\n",
       "1340   NaN      0      0     SC/PARIS 2159  12.875   NaN        S   601.0   \n",
       "1679   NaN      0      0            370368   7.750   NaN        Q  1019.0   \n",
       "450   20.0      0      0  SOTON/O2 3101287   7.925   NaN        S   624.0   \n",
       "718   19.0      0      0        A/5. 10482   8.050   NaN        S   784.0   \n",
       "329   40.0      0      0            112059   0.000   B94        S   172.0   \n",
       "\n",
       "                                      Name_wiki  Age_wiki  \\\n",
       "1340          Wheeler, Mr. Edwin Charles \"Fred\"      24.0   \n",
       "1679                      McNeill, Miss Bridget      27.0   \n",
       "450                 Alhomäki, Mr. Ilmari Rudolf      19.0   \n",
       "718                  Dorking, Mr. Edward Arthur      18.0   \n",
       "329   and secretary, Mr. William Henry Harrison      45.0   \n",
       "\n",
       "                               Hometown      Boarded  \\\n",
       "1340            Bath, Somerset, England  Southampton   \n",
       "1679          Trien, Roscommon, Ireland   Queenstown   \n",
       "450                       Salo, Finland  Southampton   \n",
       "718            Liss, Hampshire, England  Southampton   \n",
       "329   Wallasey, Merseyside, England, UK  Southampton   \n",
       "\n",
       "                        Destination Lifeboat   Body  Class  \n",
       "1340  Asheville, North Carolina, US      NaN    NaN    2.0  \n",
       "1679                  New York City      NaN    NaN    3.0  \n",
       "450             Astoria, Oregon, US      NaN    NaN    3.0  \n",
       "718           Oglesby, Illinois, US        B    NaN    3.0  \n",
       "329          New York, New York, US      NaN  110MB    1.0  "
      ]
     },
     "execution_count": 3,
     "metadata": {},
     "output_type": "execute_result"
    },
    {
     "data": {
      "application/javascript": "\n            setTimeout(function() {\n                var nbb_cell_id = 3;\n                var nbb_unformatted_code = \"raw_df = pd.read_csv('data/titanic.csv')\\n\\nraw_df.sample(5)\";\n                var nbb_formatted_code = \"raw_df = pd.read_csv(\\\"data/titanic.csv\\\")\\n\\nraw_df.sample(5)\";\n                var nbb_cells = Jupyter.notebook.get_cells();\n                for (var i = 0; i < nbb_cells.length; ++i) {\n                    if (nbb_cells[i].input_prompt_number == nbb_cell_id) {\n                        if (nbb_cells[i].get_text() == nbb_unformatted_code) {\n                             nbb_cells[i].set_text(nbb_formatted_code);\n                        }\n                        break;\n                    }\n                }\n            }, 500);\n            ",
      "text/plain": [
       "<IPython.core.display.Javascript object>"
      ]
     },
     "metadata": {},
     "output_type": "display_data"
    }
   ],
   "source": [
    "raw_df = pd.read_csv('data/titanic.csv')\n",
    "\n",
    "raw_df.sample(5)"
   ]
  },
  {
   "cell_type": "markdown",
   "metadata": {},
   "source": [
    "#### Column name descriptions can be found at [Kaggle](https://www.kaggle.com/datasets/pavlofesenko/titanic-extended)"
   ]
  },
  {
   "cell_type": "code",
   "execution_count": 4,
   "metadata": {},
   "outputs": [
    {
     "name": "stdout",
     "output_type": "stream",
     "text": [
      "<class 'pandas.core.frame.DataFrame'>\n",
      "RangeIndex: 1731 entries, 0 to 1730\n",
      "Data columns (total 21 columns):\n",
      " #   Column       Non-Null Count  Dtype  \n",
      "---  ------       --------------  -----  \n",
      " 0   PassengerId  1731 non-null   int64  \n",
      " 1   Survived     1192 non-null   float64\n",
      " 2   Pclass       1731 non-null   int64  \n",
      " 3   Name         1731 non-null   object \n",
      " 4   Sex          1731 non-null   object \n",
      " 5   Age          1384 non-null   float64\n",
      " 6   SibSp        1731 non-null   int64  \n",
      " 7   Parch        1731 non-null   int64  \n",
      " 8   Ticket       1731 non-null   object \n",
      " 9   Fare         1730 non-null   float64\n",
      " 10  Cabin        403 non-null    object \n",
      " 11  Embarked     1729 non-null   object \n",
      " 12  WikiId       1723 non-null   float64\n",
      " 13  Name_wiki    1723 non-null   object \n",
      " 14  Age_wiki     1721 non-null   float64\n",
      " 15  Hometown     1723 non-null   object \n",
      " 16  Boarded      1723 non-null   object \n",
      " 17  Destination  1723 non-null   object \n",
      " 18  Lifeboat     675 non-null    object \n",
      " 19  Body         167 non-null    object \n",
      " 20  Class        1723 non-null   float64\n",
      "dtypes: float64(6), int64(4), object(11)\n",
      "memory usage: 284.1+ KB\n"
     ]
    },
    {
     "data": {
      "application/javascript": "\n            setTimeout(function() {\n                var nbb_cell_id = 4;\n                var nbb_unformatted_code = \"raw_df.info()\";\n                var nbb_formatted_code = \"raw_df.info()\";\n                var nbb_cells = Jupyter.notebook.get_cells();\n                for (var i = 0; i < nbb_cells.length; ++i) {\n                    if (nbb_cells[i].input_prompt_number == nbb_cell_id) {\n                        if (nbb_cells[i].get_text() == nbb_unformatted_code) {\n                             nbb_cells[i].set_text(nbb_formatted_code);\n                        }\n                        break;\n                    }\n                }\n            }, 500);\n            ",
      "text/plain": [
       "<IPython.core.display.Javascript object>"
      ]
     },
     "metadata": {},
     "output_type": "display_data"
    }
   ],
   "source": [
    "raw_df.info()"
   ]
  },
  {
   "cell_type": "code",
   "execution_count": 5,
   "metadata": {},
   "outputs": [
    {
     "data": {
      "text/html": [
       "<div>\n",
       "<style scoped>\n",
       "    .dataframe tbody tr th:only-of-type {\n",
       "        vertical-align: middle;\n",
       "    }\n",
       "\n",
       "    .dataframe tbody tr th {\n",
       "        vertical-align: top;\n",
       "    }\n",
       "\n",
       "    .dataframe thead th {\n",
       "        text-align: right;\n",
       "    }\n",
       "</style>\n",
       "<table border=\"1\" class=\"dataframe\">\n",
       "  <thead>\n",
       "    <tr style=\"text-align: right;\">\n",
       "      <th></th>\n",
       "      <th>PassengerId</th>\n",
       "      <th>Survived</th>\n",
       "      <th>Pclass</th>\n",
       "      <th>Age</th>\n",
       "      <th>SibSp</th>\n",
       "      <th>Parch</th>\n",
       "      <th>Fare</th>\n",
       "      <th>WikiId</th>\n",
       "      <th>Age_wiki</th>\n",
       "      <th>Class</th>\n",
       "    </tr>\n",
       "  </thead>\n",
       "  <tbody>\n",
       "    <tr>\n",
       "      <th>count</th>\n",
       "      <td>1731.000000</td>\n",
       "      <td>1192.000000</td>\n",
       "      <td>1731.000000</td>\n",
       "      <td>1384.000000</td>\n",
       "      <td>1731.000000</td>\n",
       "      <td>1731.000000</td>\n",
       "      <td>1730.000000</td>\n",
       "      <td>1723.000000</td>\n",
       "      <td>1721.000000</td>\n",
       "      <td>1723.000000</td>\n",
       "    </tr>\n",
       "    <tr>\n",
       "      <th>mean</th>\n",
       "      <td>653.066436</td>\n",
       "      <td>0.390940</td>\n",
       "      <td>2.288850</td>\n",
       "      <td>29.994415</td>\n",
       "      <td>0.498556</td>\n",
       "      <td>0.395147</td>\n",
       "      <td>33.158523</td>\n",
       "      <td>656.217063</td>\n",
       "      <td>29.526444</td>\n",
       "      <td>2.286709</td>\n",
       "    </tr>\n",
       "    <tr>\n",
       "      <th>std</th>\n",
       "      <td>374.901274</td>\n",
       "      <td>0.488166</td>\n",
       "      <td>0.839617</td>\n",
       "      <td>14.307625</td>\n",
       "      <td>1.061885</td>\n",
       "      <td>0.879345</td>\n",
       "      <td>50.405255</td>\n",
       "      <td>381.315291</td>\n",
       "      <td>13.698111</td>\n",
       "      <td>0.841838</td>\n",
       "    </tr>\n",
       "    <tr>\n",
       "      <th>min</th>\n",
       "      <td>1.000000</td>\n",
       "      <td>0.000000</td>\n",
       "      <td>1.000000</td>\n",
       "      <td>0.170000</td>\n",
       "      <td>0.000000</td>\n",
       "      <td>0.000000</td>\n",
       "      <td>0.000000</td>\n",
       "      <td>1.000000</td>\n",
       "      <td>0.170000</td>\n",
       "      <td>1.000000</td>\n",
       "    </tr>\n",
       "    <tr>\n",
       "      <th>25%</th>\n",
       "      <td>328.500000</td>\n",
       "      <td>0.000000</td>\n",
       "      <td>2.000000</td>\n",
       "      <td>21.000000</td>\n",
       "      <td>0.000000</td>\n",
       "      <td>0.000000</td>\n",
       "      <td>7.895800</td>\n",
       "      <td>323.500000</td>\n",
       "      <td>21.000000</td>\n",
       "      <td>1.000000</td>\n",
       "    </tr>\n",
       "    <tr>\n",
       "      <th>50%</th>\n",
       "      <td>653.000000</td>\n",
       "      <td>0.000000</td>\n",
       "      <td>3.000000</td>\n",
       "      <td>28.000000</td>\n",
       "      <td>0.000000</td>\n",
       "      <td>0.000000</td>\n",
       "      <td>14.427100</td>\n",
       "      <td>660.000000</td>\n",
       "      <td>28.000000</td>\n",
       "      <td>3.000000</td>\n",
       "    </tr>\n",
       "    <tr>\n",
       "      <th>75%</th>\n",
       "      <td>977.500000</td>\n",
       "      <td>1.000000</td>\n",
       "      <td>3.000000</td>\n",
       "      <td>39.000000</td>\n",
       "      <td>1.000000</td>\n",
       "      <td>0.000000</td>\n",
       "      <td>31.275000</td>\n",
       "      <td>984.000000</td>\n",
       "      <td>38.000000</td>\n",
       "      <td>3.000000</td>\n",
       "    </tr>\n",
       "    <tr>\n",
       "      <th>max</th>\n",
       "      <td>1309.000000</td>\n",
       "      <td>1.000000</td>\n",
       "      <td>3.000000</td>\n",
       "      <td>80.000000</td>\n",
       "      <td>8.000000</td>\n",
       "      <td>9.000000</td>\n",
       "      <td>512.329200</td>\n",
       "      <td>1314.000000</td>\n",
       "      <td>74.000000</td>\n",
       "      <td>3.000000</td>\n",
       "    </tr>\n",
       "  </tbody>\n",
       "</table>\n",
       "</div>"
      ],
      "text/plain": [
       "       PassengerId     Survived       Pclass          Age        SibSp  \\\n",
       "count  1731.000000  1192.000000  1731.000000  1384.000000  1731.000000   \n",
       "mean    653.066436     0.390940     2.288850    29.994415     0.498556   \n",
       "std     374.901274     0.488166     0.839617    14.307625     1.061885   \n",
       "min       1.000000     0.000000     1.000000     0.170000     0.000000   \n",
       "25%     328.500000     0.000000     2.000000    21.000000     0.000000   \n",
       "50%     653.000000     0.000000     3.000000    28.000000     0.000000   \n",
       "75%     977.500000     1.000000     3.000000    39.000000     1.000000   \n",
       "max    1309.000000     1.000000     3.000000    80.000000     8.000000   \n",
       "\n",
       "             Parch         Fare       WikiId     Age_wiki        Class  \n",
       "count  1731.000000  1730.000000  1723.000000  1721.000000  1723.000000  \n",
       "mean      0.395147    33.158523   656.217063    29.526444     2.286709  \n",
       "std       0.879345    50.405255   381.315291    13.698111     0.841838  \n",
       "min       0.000000     0.000000     1.000000     0.170000     1.000000  \n",
       "25%       0.000000     7.895800   323.500000    21.000000     1.000000  \n",
       "50%       0.000000    14.427100   660.000000    28.000000     3.000000  \n",
       "75%       0.000000    31.275000   984.000000    38.000000     3.000000  \n",
       "max       9.000000   512.329200  1314.000000    74.000000     3.000000  "
      ]
     },
     "execution_count": 5,
     "metadata": {},
     "output_type": "execute_result"
    },
    {
     "data": {
      "application/javascript": "\n            setTimeout(function() {\n                var nbb_cell_id = 5;\n                var nbb_unformatted_code = \"raw_df.describe()\";\n                var nbb_formatted_code = \"raw_df.describe()\";\n                var nbb_cells = Jupyter.notebook.get_cells();\n                for (var i = 0; i < nbb_cells.length; ++i) {\n                    if (nbb_cells[i].input_prompt_number == nbb_cell_id) {\n                        if (nbb_cells[i].get_text() == nbb_unformatted_code) {\n                             nbb_cells[i].set_text(nbb_formatted_code);\n                        }\n                        break;\n                    }\n                }\n            }, 500);\n            ",
      "text/plain": [
       "<IPython.core.display.Javascript object>"
      ]
     },
     "metadata": {},
     "output_type": "display_data"
    }
   ],
   "source": [
    "raw_df.describe()"
   ]
  },
  {
   "cell_type": "code",
   "execution_count": 6,
   "metadata": {},
   "outputs": [
    {
     "name": "stdout",
     "output_type": "stream",
     "text": [
      "PassengerId: 0\n",
      "Survived: 539\n",
      "Pclass: 0\n",
      "Name: 0\n",
      "Sex: 0\n",
      "Age: 347\n",
      "SibSp: 0\n",
      "Parch: 0\n",
      "Ticket: 0\n",
      "Fare: 1\n",
      "Cabin: 1328\n",
      "Embarked: 2\n",
      "WikiId: 8\n",
      "Name_wiki: 8\n",
      "Age_wiki: 10\n",
      "Hometown: 8\n",
      "Boarded: 8\n",
      "Destination: 8\n",
      "Lifeboat: 1056\n",
      "Body: 1564\n",
      "Class: 8\n"
     ]
    },
    {
     "data": {
      "application/javascript": "\n            setTimeout(function() {\n                var nbb_cell_id = 6;\n                var nbb_unformatted_code = \"def count_na_per_column(dataset: pd.DataFrame) -> None:\\n        \\n        for column_name in dataset.columns:\\n                nan_values = dataset[column_name].isna().sum()\\n                print(f'{column_name}: {nan_values}')\\n    \\ncount_na_per_column(raw_df)\";\n                var nbb_formatted_code = \"def count_na_per_column(dataset: pd.DataFrame) -> None:\\n\\n    for column_name in dataset.columns:\\n        nan_values = dataset[column_name].isna().sum()\\n        print(f\\\"{column_name}: {nan_values}\\\")\\n\\n\\ncount_na_per_column(raw_df)\";\n                var nbb_cells = Jupyter.notebook.get_cells();\n                for (var i = 0; i < nbb_cells.length; ++i) {\n                    if (nbb_cells[i].input_prompt_number == nbb_cell_id) {\n                        if (nbb_cells[i].get_text() == nbb_unformatted_code) {\n                             nbb_cells[i].set_text(nbb_formatted_code);\n                        }\n                        break;\n                    }\n                }\n            }, 500);\n            ",
      "text/plain": [
       "<IPython.core.display.Javascript object>"
      ]
     },
     "metadata": {},
     "output_type": "display_data"
    }
   ],
   "source": [
    "def count_na_per_column(dataset: pd.DataFrame) -> None:\n",
    "        \n",
    "        for column_name in dataset.columns:\n",
    "                nan_values = dataset[column_name].isna().sum()\n",
    "                print(f'{column_name}: {nan_values}')\n",
    "    \n",
    "count_na_per_column(raw_df)"
   ]
  },
  {
   "cell_type": "code",
   "execution_count": 7,
   "metadata": {},
   "outputs": [
    {
     "data": {
      "application/javascript": "\n            setTimeout(function() {\n                var nbb_cell_id = 7;\n                var nbb_unformatted_code = \"#making a copy of dataset to safely work with missing values and etc.\\ndf = raw_df.copy()\";\n                var nbb_formatted_code = \"# making a copy of dataset to safely work with missing values and etc.\\ndf = raw_df.copy()\";\n                var nbb_cells = Jupyter.notebook.get_cells();\n                for (var i = 0; i < nbb_cells.length; ++i) {\n                    if (nbb_cells[i].input_prompt_number == nbb_cell_id) {\n                        if (nbb_cells[i].get_text() == nbb_unformatted_code) {\n                             nbb_cells[i].set_text(nbb_formatted_code);\n                        }\n                        break;\n                    }\n                }\n            }, 500);\n            ",
      "text/plain": [
       "<IPython.core.display.Javascript object>"
      ]
     },
     "metadata": {},
     "output_type": "display_data"
    }
   ],
   "source": [
    "#making a copy of dataset to safely work with missing values and etc.\n",
    "df = raw_df.copy()"
   ]
  },
  {
   "cell_type": "code",
   "execution_count": 8,
   "metadata": {},
   "outputs": [
    {
     "data": {
      "application/javascript": "\n            setTimeout(function() {\n                var nbb_cell_id = 8;\n                var nbb_unformatted_code = \"# 1.4 drop small value columns: passengerID, Body\\ndf.drop(columns=['PassengerId', 'Body'], inplace=True)\";\n                var nbb_formatted_code = \"# 1.4 drop small value columns: passengerID, Body\\ndf.drop(columns=[\\\"PassengerId\\\", \\\"Body\\\"], inplace=True)\";\n                var nbb_cells = Jupyter.notebook.get_cells();\n                for (var i = 0; i < nbb_cells.length; ++i) {\n                    if (nbb_cells[i].input_prompt_number == nbb_cell_id) {\n                        if (nbb_cells[i].get_text() == nbb_unformatted_code) {\n                             nbb_cells[i].set_text(nbb_formatted_code);\n                        }\n                        break;\n                    }\n                }\n            }, 500);\n            ",
      "text/plain": [
       "<IPython.core.display.Javascript object>"
      ]
     },
     "metadata": {},
     "output_type": "display_data"
    }
   ],
   "source": [
    "# 1.4 drop small value columns: passengerID, Body\n",
    "df.drop(columns=['PassengerId', 'Body'], inplace=True)"
   ]
  },
  {
   "cell_type": "markdown",
   "metadata": {},
   "source": [
    "[Python column naming convention](https://stackoverflow.com/questions/159720/what-is-the-naming-convention-in-python-for-variable-and-function)"
   ]
  },
  {
   "cell_type": "code",
   "execution_count": 9,
   "metadata": {},
   "outputs": [
    {
     "data": {
      "text/plain": [
       "Index(['survived', 'pclass', 'name', 'sex', 'age', 'sibsp', 'parch', 'ticket',\n",
       "       'fare', 'cabin', 'embarked', 'wikiid', 'name_wiki', 'age_wiki',\n",
       "       'hometown', 'boarded', 'destination', 'lifeboat', 'class'],\n",
       "      dtype='object')"
      ]
     },
     "execution_count": 9,
     "metadata": {},
     "output_type": "execute_result"
    },
    {
     "data": {
      "application/javascript": "\n            setTimeout(function() {\n                var nbb_cell_id = 9;\n                var nbb_unformatted_code = \"# 1.5 rename column names according python naming convention\\ndf.columns.str.lower()\";\n                var nbb_formatted_code = \"# 1.5 rename column names according python naming convention\\ndf.columns.str.lower()\";\n                var nbb_cells = Jupyter.notebook.get_cells();\n                for (var i = 0; i < nbb_cells.length; ++i) {\n                    if (nbb_cells[i].input_prompt_number == nbb_cell_id) {\n                        if (nbb_cells[i].get_text() == nbb_unformatted_code) {\n                             nbb_cells[i].set_text(nbb_formatted_code);\n                        }\n                        break;\n                    }\n                }\n            }, 500);\n            ",
      "text/plain": [
       "<IPython.core.display.Javascript object>"
      ]
     },
     "metadata": {},
     "output_type": "display_data"
    }
   ],
   "source": [
    "# 1.5 rename column names according python naming convention\n",
    "df.columns.str.lower()"
   ]
  },
  {
   "cell_type": "code",
   "execution_count": 10,
   "metadata": {},
   "outputs": [
    {
     "data": {
      "text/html": [
       "<div>\n",
       "<style scoped>\n",
       "    .dataframe tbody tr th:only-of-type {\n",
       "        vertical-align: middle;\n",
       "    }\n",
       "\n",
       "    .dataframe tbody tr th {\n",
       "        vertical-align: top;\n",
       "    }\n",
       "\n",
       "    .dataframe thead th {\n",
       "        text-align: right;\n",
       "    }\n",
       "</style>\n",
       "<table border=\"1\" class=\"dataframe\">\n",
       "  <thead>\n",
       "    <tr style=\"text-align: right;\">\n",
       "      <th></th>\n",
       "      <th>survived</th>\n",
       "      <th>p_class</th>\n",
       "      <th>name</th>\n",
       "      <th>sex</th>\n",
       "      <th>age</th>\n",
       "      <th>sib_sp</th>\n",
       "      <th>parch</th>\n",
       "      <th>ticket</th>\n",
       "      <th>fare</th>\n",
       "      <th>cabin</th>\n",
       "      <th>embarked</th>\n",
       "      <th>wiki_id</th>\n",
       "      <th>name_wiki</th>\n",
       "      <th>age_wiki</th>\n",
       "      <th>hometown</th>\n",
       "      <th>boarded</th>\n",
       "      <th>destination</th>\n",
       "      <th>lifeboat</th>\n",
       "      <th>class</th>\n",
       "    </tr>\n",
       "  </thead>\n",
       "  <tbody>\n",
       "    <tr>\n",
       "      <th>0</th>\n",
       "      <td>NaN</td>\n",
       "      <td>3</td>\n",
       "      <td>Andersson, Miss. Ida Augusta Margareta</td>\n",
       "      <td>female</td>\n",
       "      <td>38.0</td>\n",
       "      <td>4</td>\n",
       "      <td>2</td>\n",
       "      <td>347091</td>\n",
       "      <td>7.7750</td>\n",
       "      <td>NaN</td>\n",
       "      <td>S</td>\n",
       "      <td>640.0</td>\n",
       "      <td>Andersson, Miss Ida Augusta Margareta</td>\n",
       "      <td>38.0</td>\n",
       "      <td>Vadsbro, Sörmland, Sweden</td>\n",
       "      <td>Southampton</td>\n",
       "      <td>Manistee, Michigan, US</td>\n",
       "      <td>NaN</td>\n",
       "      <td>3.0</td>\n",
       "    </tr>\n",
       "    <tr>\n",
       "      <th>1</th>\n",
       "      <td>0.0</td>\n",
       "      <td>3</td>\n",
       "      <td>Lahoud, Mr. Sarkis</td>\n",
       "      <td>male</td>\n",
       "      <td>NaN</td>\n",
       "      <td>0</td>\n",
       "      <td>0</td>\n",
       "      <td>2624</td>\n",
       "      <td>7.2250</td>\n",
       "      <td>NaN</td>\n",
       "      <td>C</td>\n",
       "      <td>949.0</td>\n",
       "      <td>Lahoud Ishaq Mowad, Mr. Sarkis</td>\n",
       "      <td>30.0</td>\n",
       "      <td>Zgharta, Lebanon</td>\n",
       "      <td>Cherbourg</td>\n",
       "      <td>Waterbury, Connecticut, US</td>\n",
       "      <td>NaN</td>\n",
       "      <td>3.0</td>\n",
       "    </tr>\n",
       "    <tr>\n",
       "      <th>2</th>\n",
       "      <td>1.0</td>\n",
       "      <td>3</td>\n",
       "      <td>Barah, Mr. Hanna Assi</td>\n",
       "      <td>male</td>\n",
       "      <td>20.0</td>\n",
       "      <td>0</td>\n",
       "      <td>0</td>\n",
       "      <td>2663</td>\n",
       "      <td>7.2292</td>\n",
       "      <td>NaN</td>\n",
       "      <td>C</td>\n",
       "      <td>852.0</td>\n",
       "      <td>Hanna, Mr. Borak Suleiman</td>\n",
       "      <td>27.0</td>\n",
       "      <td>Hardîne, Lebanon</td>\n",
       "      <td>Cherbourg</td>\n",
       "      <td>Wilkes-Barre, Pennsylvania, US</td>\n",
       "      <td>15</td>\n",
       "      <td>3.0</td>\n",
       "    </tr>\n",
       "    <tr>\n",
       "      <th>3</th>\n",
       "      <td>NaN</td>\n",
       "      <td>3</td>\n",
       "      <td>Niklasson, Mr. Samuel</td>\n",
       "      <td>male</td>\n",
       "      <td>28.0</td>\n",
       "      <td>0</td>\n",
       "      <td>0</td>\n",
       "      <td>363611</td>\n",
       "      <td>8.0500</td>\n",
       "      <td>NaN</td>\n",
       "      <td>S</td>\n",
       "      <td>1067.0</td>\n",
       "      <td>Niklasson, Mr. Samuel</td>\n",
       "      <td>28.0</td>\n",
       "      <td>Västra Bogane, Orust Island, Sweden</td>\n",
       "      <td>Southampton</td>\n",
       "      <td>New York City</td>\n",
       "      <td>NaN</td>\n",
       "      <td>3.0</td>\n",
       "    </tr>\n",
       "    <tr>\n",
       "      <th>4</th>\n",
       "      <td>0.0</td>\n",
       "      <td>3</td>\n",
       "      <td>Jensen, Mr. Niels Peder</td>\n",
       "      <td>male</td>\n",
       "      <td>48.0</td>\n",
       "      <td>0</td>\n",
       "      <td>0</td>\n",
       "      <td>350047</td>\n",
       "      <td>7.8542</td>\n",
       "      <td>NaN</td>\n",
       "      <td>S</td>\n",
       "      <td>890.0</td>\n",
       "      <td>Jensen, Mr. Niels Peder \"Rasmus\"</td>\n",
       "      <td>48.0</td>\n",
       "      <td>Portland, Oregon, US</td>\n",
       "      <td>Southampton</td>\n",
       "      <td>Portland, Oregon, US</td>\n",
       "      <td>NaN</td>\n",
       "      <td>3.0</td>\n",
       "    </tr>\n",
       "  </tbody>\n",
       "</table>\n",
       "</div>"
      ],
      "text/plain": [
       "   survived  p_class                                    name     sex   age  \\\n",
       "0       NaN        3  Andersson, Miss. Ida Augusta Margareta  female  38.0   \n",
       "1       0.0        3                      Lahoud, Mr. Sarkis    male   NaN   \n",
       "2       1.0        3                   Barah, Mr. Hanna Assi    male  20.0   \n",
       "3       NaN        3                   Niklasson, Mr. Samuel    male  28.0   \n",
       "4       0.0        3                 Jensen, Mr. Niels Peder    male  48.0   \n",
       "\n",
       "   sib_sp  parch  ticket    fare cabin embarked  wiki_id  \\\n",
       "0       4      2  347091  7.7750   NaN        S    640.0   \n",
       "1       0      0    2624  7.2250   NaN        C    949.0   \n",
       "2       0      0    2663  7.2292   NaN        C    852.0   \n",
       "3       0      0  363611  8.0500   NaN        S   1067.0   \n",
       "4       0      0  350047  7.8542   NaN        S    890.0   \n",
       "\n",
       "                               name_wiki  age_wiki  \\\n",
       "0  Andersson, Miss Ida Augusta Margareta      38.0   \n",
       "1         Lahoud Ishaq Mowad, Mr. Sarkis      30.0   \n",
       "2              Hanna, Mr. Borak Suleiman      27.0   \n",
       "3                  Niklasson, Mr. Samuel      28.0   \n",
       "4       Jensen, Mr. Niels Peder \"Rasmus\"      48.0   \n",
       "\n",
       "                              hometown      boarded  \\\n",
       "0            Vadsbro, Sörmland, Sweden  Southampton   \n",
       "1                     Zgharta, Lebanon    Cherbourg   \n",
       "2                     Hardîne, Lebanon    Cherbourg   \n",
       "3  Västra Bogane, Orust Island, Sweden  Southampton   \n",
       "4                 Portland, Oregon, US  Southampton   \n",
       "\n",
       "                      destination lifeboat  class  \n",
       "0          Manistee, Michigan, US      NaN    3.0  \n",
       "1      Waterbury, Connecticut, US      NaN    3.0  \n",
       "2  Wilkes-Barre, Pennsylvania, US       15    3.0  \n",
       "3                   New York City      NaN    3.0  \n",
       "4            Portland, Oregon, US      NaN    3.0  "
      ]
     },
     "execution_count": 10,
     "metadata": {},
     "output_type": "execute_result"
    },
    {
     "data": {
      "application/javascript": "\n            setTimeout(function() {\n                var nbb_cell_id = 10;\n                var nbb_unformatted_code = \"updated_column_names = ['survived', 'p_class', 'name', 'sex', 'age', 'sib_sp', 'parch', 'ticket',\\n       'fare', 'cabin', 'embarked', 'wiki_id', 'name_wiki', 'age_wiki',\\n       'hometown', 'boarded', 'destination', 'lifeboat', 'class']\\ndf.columns = updated_column_names\\n\\ndf.head(5)\";\n                var nbb_formatted_code = \"updated_column_names = [\\n    \\\"survived\\\",\\n    \\\"p_class\\\",\\n    \\\"name\\\",\\n    \\\"sex\\\",\\n    \\\"age\\\",\\n    \\\"sib_sp\\\",\\n    \\\"parch\\\",\\n    \\\"ticket\\\",\\n    \\\"fare\\\",\\n    \\\"cabin\\\",\\n    \\\"embarked\\\",\\n    \\\"wiki_id\\\",\\n    \\\"name_wiki\\\",\\n    \\\"age_wiki\\\",\\n    \\\"hometown\\\",\\n    \\\"boarded\\\",\\n    \\\"destination\\\",\\n    \\\"lifeboat\\\",\\n    \\\"class\\\",\\n]\\ndf.columns = updated_column_names\\n\\ndf.head(5)\";\n                var nbb_cells = Jupyter.notebook.get_cells();\n                for (var i = 0; i < nbb_cells.length; ++i) {\n                    if (nbb_cells[i].input_prompt_number == nbb_cell_id) {\n                        if (nbb_cells[i].get_text() == nbb_unformatted_code) {\n                             nbb_cells[i].set_text(nbb_formatted_code);\n                        }\n                        break;\n                    }\n                }\n            }, 500);\n            ",
      "text/plain": [
       "<IPython.core.display.Javascript object>"
      ]
     },
     "metadata": {},
     "output_type": "display_data"
    }
   ],
   "source": [
    "updated_column_names = ['survived', 'p_class', 'name', 'sex', 'age', 'sib_sp', 'parch', 'ticket',\n",
    "       'fare', 'cabin', 'embarked', 'wiki_id', 'name_wiki', 'age_wiki',\n",
    "       'hometown', 'boarded', 'destination', 'lifeboat', 'class']\n",
    "df.columns = updated_column_names\n",
    "\n",
    "df.head(5)\n"
   ]
  },
  {
   "cell_type": "code",
   "execution_count": 11,
   "metadata": {},
   "outputs": [
    {
     "data": {
      "text/plain": [
       "0.0    726\n",
       "NaN    539\n",
       "1.0    466\n",
       "Name: survived, dtype: int64"
      ]
     },
     "execution_count": 11,
     "metadata": {},
     "output_type": "execute_result"
    },
    {
     "data": {
      "application/javascript": "\n            setTimeout(function() {\n                var nbb_cell_id = 11;\n                var nbb_unformatted_code = \"# 1.6. count column survived values, include nan values into the output.\\n\\ndf['survived'].value_counts(dropna=False)\";\n                var nbb_formatted_code = \"# 1.6. count column survived values, include nan values into the output.\\n\\ndf[\\\"survived\\\"].value_counts(dropna=False)\";\n                var nbb_cells = Jupyter.notebook.get_cells();\n                for (var i = 0; i < nbb_cells.length; ++i) {\n                    if (nbb_cells[i].input_prompt_number == nbb_cell_id) {\n                        if (nbb_cells[i].get_text() == nbb_unformatted_code) {\n                             nbb_cells[i].set_text(nbb_formatted_code);\n                        }\n                        break;\n                    }\n                }\n            }, 500);\n            ",
      "text/plain": [
       "<IPython.core.display.Javascript object>"
      ]
     },
     "metadata": {},
     "output_type": "display_data"
    }
   ],
   "source": [
    "# 1.6. count column survived values, include nan values into the output.\n",
    "\n",
    "df['survived'].value_counts(dropna=False)"
   ]
  },
  {
   "cell_type": "code",
   "execution_count": 12,
   "metadata": {},
   "outputs": [
    {
     "data": {
      "application/javascript": "\n            setTimeout(function() {\n                var nbb_cell_id = 12;\n                var nbb_unformatted_code = \"# 1.7 / 1.8 create a new dataset that holds non-null values Survived columns.\\n\\nsurvived_df = df[df['survived'].notna()]\\nsurvived_df.reset_index(drop=True, inplace=True)\";\n                var nbb_formatted_code = \"# 1.7 / 1.8 create a new dataset that holds non-null values Survived columns.\\n\\nsurvived_df = df[df[\\\"survived\\\"].notna()]\\nsurvived_df.reset_index(drop=True, inplace=True)\";\n                var nbb_cells = Jupyter.notebook.get_cells();\n                for (var i = 0; i < nbb_cells.length; ++i) {\n                    if (nbb_cells[i].input_prompt_number == nbb_cell_id) {\n                        if (nbb_cells[i].get_text() == nbb_unformatted_code) {\n                             nbb_cells[i].set_text(nbb_formatted_code);\n                        }\n                        break;\n                    }\n                }\n            }, 500);\n            ",
      "text/plain": [
       "<IPython.core.display.Javascript object>"
      ]
     },
     "metadata": {},
     "output_type": "display_data"
    }
   ],
   "source": [
    "# 1.7 / 1.8 create a new dataset that holds non-null values Survived columns.\n",
    "\n",
    "survived_df = df[df['survived'].notna()]\n",
    "survived_df.reset_index(drop=True, inplace=True)"
   ]
  },
  {
   "cell_type": "code",
   "execution_count": 13,
   "metadata": {},
   "outputs": [
    {
     "name": "stdout",
     "output_type": "stream",
     "text": [
      "survived: 0\n",
      "p_class: 0\n",
      "name: 0\n",
      "sex: 0\n",
      "age: 233\n",
      "sib_sp: 0\n",
      "parch: 0\n",
      "ticket: 0\n",
      "fare: 0\n",
      "cabin: 912\n",
      "embarked: 2\n",
      "wiki_id: 2\n",
      "name_wiki: 2\n",
      "age_wiki: 4\n",
      "hometown: 2\n",
      "boarded: 2\n",
      "destination: 2\n",
      "lifeboat: 722\n",
      "class: 2\n"
     ]
    },
    {
     "data": {
      "application/javascript": "\n            setTimeout(function() {\n                var nbb_cell_id = 13;\n                var nbb_unformatted_code = \"count_na_per_column(survived_df)\";\n                var nbb_formatted_code = \"count_na_per_column(survived_df)\";\n                var nbb_cells = Jupyter.notebook.get_cells();\n                for (var i = 0; i < nbb_cells.length; ++i) {\n                    if (nbb_cells[i].input_prompt_number == nbb_cell_id) {\n                        if (nbb_cells[i].get_text() == nbb_unformatted_code) {\n                             nbb_cells[i].set_text(nbb_formatted_code);\n                        }\n                        break;\n                    }\n                }\n            }, 500);\n            ",
      "text/plain": [
       "<IPython.core.display.Javascript object>"
      ]
     },
     "metadata": {},
     "output_type": "display_data"
    }
   ],
   "source": [
    "count_na_per_column(survived_df)"
   ]
  },
  {
   "cell_type": "code",
   "execution_count": 14,
   "metadata": {},
   "outputs": [
    {
     "data": {
      "text/plain": [
       "survived       float64\n",
       "p_class          int64\n",
       "name            object\n",
       "sex             object\n",
       "age            float64\n",
       "sib_sp           int64\n",
       "parch            int64\n",
       "ticket          object\n",
       "fare           float64\n",
       "cabin           object\n",
       "embarked        object\n",
       "wiki_id        float64\n",
       "name_wiki       object\n",
       "age_wiki       float64\n",
       "hometown        object\n",
       "boarded         object\n",
       "destination     object\n",
       "lifeboat        object\n",
       "class          float64\n",
       "dtype: object"
      ]
     },
     "execution_count": 14,
     "metadata": {},
     "output_type": "execute_result"
    },
    {
     "data": {
      "application/javascript": "\n            setTimeout(function() {\n                var nbb_cell_id = 14;\n                var nbb_unformatted_code = \"survived_df.dtypes\";\n                var nbb_formatted_code = \"survived_df.dtypes\";\n                var nbb_cells = Jupyter.notebook.get_cells();\n                for (var i = 0; i < nbb_cells.length; ++i) {\n                    if (nbb_cells[i].input_prompt_number == nbb_cell_id) {\n                        if (nbb_cells[i].get_text() == nbb_unformatted_code) {\n                             nbb_cells[i].set_text(nbb_formatted_code);\n                        }\n                        break;\n                    }\n                }\n            }, 500);\n            ",
      "text/plain": [
       "<IPython.core.display.Javascript object>"
      ]
     },
     "metadata": {},
     "output_type": "display_data"
    }
   ],
   "source": [
    "survived_df.dtypes"
   ]
  },
  {
   "cell_type": "code",
   "execution_count": 15,
   "metadata": {},
   "outputs": [
    {
     "data": {
      "application/javascript": "\n            setTimeout(function() {\n                var nbb_cell_id = 15;\n                var nbb_unformatted_code = \"# 1.10 fill AGE nan values \\n\\nmedian_age_per_p_class = dict(survived_df.groupby('p_class')['age'].median())\\n\\nsurvived_df.loc[survived_df['age'].isnull(), 'age'] = survived_df['p_class'].map(median_age_per_p_class)\\n\\n# survived_df['survived'].isna().sum()\";\n                var nbb_formatted_code = \"# 1.10 fill AGE nan values\\n\\nmedian_age_per_p_class = dict(survived_df.groupby(\\\"p_class\\\")[\\\"age\\\"].median())\\n\\nsurvived_df.loc[survived_df[\\\"age\\\"].isnull(), \\\"age\\\"] = survived_df[\\\"p_class\\\"].map(\\n    median_age_per_p_class\\n)\\n\\n# survived_df['survived'].isna().sum()\";\n                var nbb_cells = Jupyter.notebook.get_cells();\n                for (var i = 0; i < nbb_cells.length; ++i) {\n                    if (nbb_cells[i].input_prompt_number == nbb_cell_id) {\n                        if (nbb_cells[i].get_text() == nbb_unformatted_code) {\n                             nbb_cells[i].set_text(nbb_formatted_code);\n                        }\n                        break;\n                    }\n                }\n            }, 500);\n            ",
      "text/plain": [
       "<IPython.core.display.Javascript object>"
      ]
     },
     "metadata": {},
     "output_type": "display_data"
    }
   ],
   "source": [
    "# 1.10 fill AGE nan values \n",
    "\n",
    "median_age_per_p_class = dict(survived_df.groupby('p_class')['age'].median())\n",
    "\n",
    "survived_df.loc[survived_df['age'].isnull(), 'age'] = survived_df['p_class'].map(median_age_per_p_class)\n",
    "\n",
    "# survived_df['survived'].isna().sum()\n",
    "\n"
   ]
  },
  {
   "cell_type": "code",
   "execution_count": 16,
   "metadata": {},
   "outputs": [
    {
     "name": "stderr",
     "output_type": "stream",
     "text": [
      "C:\\Users\\MantasP\\AppData\\Local\\Temp\\ipykernel_9944\\4108919043.py:1: SettingWithCopyWarning: \n",
      "A value is trying to be set on a copy of a slice from a DataFrame.\n",
      "Try using .loc[row_indexer,col_indexer] = value instead\n",
      "\n",
      "See the caveats in the documentation: https://pandas.pydata.org/pandas-docs/stable/user_guide/indexing.html#returning-a-view-versus-a-copy\n",
      "  survived_df[\"age\"] = survived_df.groupby(\"p_class\", group_keys=False)[\"age\"].apply(\n"
     ]
    },
    {
     "data": {
      "application/javascript": "\n            setTimeout(function() {\n                var nbb_cell_id = 16;\n                var nbb_unformatted_code = \"survived_df[\\\"age\\\"] = survived_df.groupby(\\\"p_class\\\", group_keys=False)[\\\"age\\\"].apply(\\n    lambda x: x.fillna(x.median())\\n)\";\n                var nbb_formatted_code = \"survived_df[\\\"age\\\"] = survived_df.groupby(\\\"p_class\\\", group_keys=False)[\\\"age\\\"].apply(\\n    lambda x: x.fillna(x.median())\\n)\";\n                var nbb_cells = Jupyter.notebook.get_cells();\n                for (var i = 0; i < nbb_cells.length; ++i) {\n                    if (nbb_cells[i].input_prompt_number == nbb_cell_id) {\n                        if (nbb_cells[i].get_text() == nbb_unformatted_code) {\n                             nbb_cells[i].set_text(nbb_formatted_code);\n                        }\n                        break;\n                    }\n                }\n            }, 500);\n            ",
      "text/plain": [
       "<IPython.core.display.Javascript object>"
      ]
     },
     "metadata": {},
     "output_type": "display_data"
    }
   ],
   "source": [
    "survived_df[\"age\"] = survived_df.groupby(\"p_class\", group_keys=False)[\"age\"].apply(\n",
    "    lambda x: x.fillna(x.median())\n",
    ")\n"
   ]
  },
  {
   "cell_type": "code",
   "execution_count": 17,
   "metadata": {},
   "outputs": [
    {
     "data": {
      "text/html": [
       "<div>\n",
       "<style scoped>\n",
       "    .dataframe tbody tr th:only-of-type {\n",
       "        vertical-align: middle;\n",
       "    }\n",
       "\n",
       "    .dataframe tbody tr th {\n",
       "        vertical-align: top;\n",
       "    }\n",
       "\n",
       "    .dataframe thead th {\n",
       "        text-align: right;\n",
       "    }\n",
       "</style>\n",
       "<table border=\"1\" class=\"dataframe\">\n",
       "  <thead>\n",
       "    <tr style=\"text-align: right;\">\n",
       "      <th></th>\n",
       "      <th>survived</th>\n",
       "      <th>p_class</th>\n",
       "      <th>name</th>\n",
       "      <th>sex</th>\n",
       "      <th>age</th>\n",
       "      <th>sib_sp</th>\n",
       "      <th>parch</th>\n",
       "      <th>ticket</th>\n",
       "      <th>fare</th>\n",
       "      <th>cabin</th>\n",
       "      <th>embarked</th>\n",
       "      <th>wiki_id</th>\n",
       "      <th>name_wiki</th>\n",
       "      <th>age_wiki</th>\n",
       "      <th>hometown</th>\n",
       "      <th>boarded</th>\n",
       "      <th>destination</th>\n",
       "      <th>lifeboat</th>\n",
       "      <th>class</th>\n",
       "    </tr>\n",
       "  </thead>\n",
       "  <tbody>\n",
       "    <tr>\n",
       "      <th>0</th>\n",
       "      <td>0.0</td>\n",
       "      <td>3</td>\n",
       "      <td>Lahoud, Mr. Sarkis</td>\n",
       "      <td>male</td>\n",
       "      <td>24.0</td>\n",
       "      <td>0</td>\n",
       "      <td>0</td>\n",
       "      <td>2624</td>\n",
       "      <td>7.2250</td>\n",
       "      <td>NaN</td>\n",
       "      <td>C</td>\n",
       "      <td>949.0</td>\n",
       "      <td>Lahoud Ishaq Mowad, Mr. Sarkis</td>\n",
       "      <td>30.0</td>\n",
       "      <td>Zgharta, Lebanon</td>\n",
       "      <td>Cherbourg</td>\n",
       "      <td>Waterbury, Connecticut, US</td>\n",
       "      <td>NaN</td>\n",
       "      <td>3.0</td>\n",
       "    </tr>\n",
       "    <tr>\n",
       "      <th>1</th>\n",
       "      <td>1.0</td>\n",
       "      <td>3</td>\n",
       "      <td>Barah, Mr. Hanna Assi</td>\n",
       "      <td>male</td>\n",
       "      <td>20.0</td>\n",
       "      <td>0</td>\n",
       "      <td>0</td>\n",
       "      <td>2663</td>\n",
       "      <td>7.2292</td>\n",
       "      <td>NaN</td>\n",
       "      <td>C</td>\n",
       "      <td>852.0</td>\n",
       "      <td>Hanna, Mr. Borak Suleiman</td>\n",
       "      <td>27.0</td>\n",
       "      <td>Hardîne, Lebanon</td>\n",
       "      <td>Cherbourg</td>\n",
       "      <td>Wilkes-Barre, Pennsylvania, US</td>\n",
       "      <td>15</td>\n",
       "      <td>3.0</td>\n",
       "    </tr>\n",
       "    <tr>\n",
       "      <th>2</th>\n",
       "      <td>0.0</td>\n",
       "      <td>3</td>\n",
       "      <td>Jensen, Mr. Niels Peder</td>\n",
       "      <td>male</td>\n",
       "      <td>48.0</td>\n",
       "      <td>0</td>\n",
       "      <td>0</td>\n",
       "      <td>350047</td>\n",
       "      <td>7.8542</td>\n",
       "      <td>NaN</td>\n",
       "      <td>S</td>\n",
       "      <td>890.0</td>\n",
       "      <td>Jensen, Mr. Niels Peder \"Rasmus\"</td>\n",
       "      <td>48.0</td>\n",
       "      <td>Portland, Oregon, US</td>\n",
       "      <td>Southampton</td>\n",
       "      <td>Portland, Oregon, US</td>\n",
       "      <td>NaN</td>\n",
       "      <td>3.0</td>\n",
       "    </tr>\n",
       "    <tr>\n",
       "      <th>3</th>\n",
       "      <td>0.0</td>\n",
       "      <td>3</td>\n",
       "      <td>Stoytcheff, Mr. Ilia</td>\n",
       "      <td>male</td>\n",
       "      <td>19.0</td>\n",
       "      <td>0</td>\n",
       "      <td>0</td>\n",
       "      <td>349205</td>\n",
       "      <td>7.8958</td>\n",
       "      <td>NaN</td>\n",
       "      <td>S</td>\n",
       "      <td>1234.0</td>\n",
       "      <td>Stoytcheff, Mr. Ilia</td>\n",
       "      <td>19.0</td>\n",
       "      <td>Gumostnik, Lovec, Bulgaria</td>\n",
       "      <td>Southampton</td>\n",
       "      <td>Chicago, Illinois, US</td>\n",
       "      <td>NaN</td>\n",
       "      <td>3.0</td>\n",
       "    </tr>\n",
       "    <tr>\n",
       "      <th>4</th>\n",
       "      <td>0.0</td>\n",
       "      <td>1</td>\n",
       "      <td>Andrews, Mr. Thomas Jr</td>\n",
       "      <td>male</td>\n",
       "      <td>39.0</td>\n",
       "      <td>0</td>\n",
       "      <td>0</td>\n",
       "      <td>112050</td>\n",
       "      <td>0.0000</td>\n",
       "      <td>A36</td>\n",
       "      <td>S</td>\n",
       "      <td>12.0</td>\n",
       "      <td>Andrews, Mr. Thomas[60]</td>\n",
       "      <td>39.0</td>\n",
       "      <td>Belfast, Ireland, UK</td>\n",
       "      <td>Belfast</td>\n",
       "      <td>New York, New York, US</td>\n",
       "      <td>NaN</td>\n",
       "      <td>1.0</td>\n",
       "    </tr>\n",
       "    <tr>\n",
       "      <th>...</th>\n",
       "      <td>...</td>\n",
       "      <td>...</td>\n",
       "      <td>...</td>\n",
       "      <td>...</td>\n",
       "      <td>...</td>\n",
       "      <td>...</td>\n",
       "      <td>...</td>\n",
       "      <td>...</td>\n",
       "      <td>...</td>\n",
       "      <td>...</td>\n",
       "      <td>...</td>\n",
       "      <td>...</td>\n",
       "      <td>...</td>\n",
       "      <td>...</td>\n",
       "      <td>...</td>\n",
       "      <td>...</td>\n",
       "      <td>...</td>\n",
       "      <td>...</td>\n",
       "      <td>...</td>\n",
       "    </tr>\n",
       "    <tr>\n",
       "      <th>1187</th>\n",
       "      <td>1.0</td>\n",
       "      <td>2</td>\n",
       "      <td>Watt, Mrs. James (Elizabeth \"Bessie\" Inglis Mi...</td>\n",
       "      <td>female</td>\n",
       "      <td>40.0</td>\n",
       "      <td>0</td>\n",
       "      <td>0</td>\n",
       "      <td>C.A. 33595</td>\n",
       "      <td>15.7500</td>\n",
       "      <td>NaN</td>\n",
       "      <td>S</td>\n",
       "      <td>588.0</td>\n",
       "      <td>Watt, Mrs. Elizabeth Inglis \"Bessie\" (née Milne)</td>\n",
       "      <td>40.0</td>\n",
       "      <td>Aberdeen, Aberdeenshire, Scotland</td>\n",
       "      <td>Southampton</td>\n",
       "      <td>Portland, Oregon, US</td>\n",
       "      <td>9</td>\n",
       "      <td>2.0</td>\n",
       "    </tr>\n",
       "    <tr>\n",
       "      <th>1188</th>\n",
       "      <td>0.0</td>\n",
       "      <td>3</td>\n",
       "      <td>Vander Planke, Mr. Leo Edmondus</td>\n",
       "      <td>male</td>\n",
       "      <td>16.0</td>\n",
       "      <td>2</td>\n",
       "      <td>0</td>\n",
       "      <td>345764</td>\n",
       "      <td>18.0000</td>\n",
       "      <td>NaN</td>\n",
       "      <td>S</td>\n",
       "      <td>1282.0</td>\n",
       "      <td>Vanderplancke, Mr. Leo Edmondus</td>\n",
       "      <td>15.0</td>\n",
       "      <td>Zwevezele, Belgium</td>\n",
       "      <td>Southampton</td>\n",
       "      <td>Fremont, Ohio, US</td>\n",
       "      <td>NaN</td>\n",
       "      <td>3.0</td>\n",
       "    </tr>\n",
       "    <tr>\n",
       "      <th>1189</th>\n",
       "      <td>0.0</td>\n",
       "      <td>2</td>\n",
       "      <td>West, Mr. Edwy Arthur</td>\n",
       "      <td>male</td>\n",
       "      <td>36.0</td>\n",
       "      <td>1</td>\n",
       "      <td>2</td>\n",
       "      <td>C.A. 34651</td>\n",
       "      <td>27.7500</td>\n",
       "      <td>NaN</td>\n",
       "      <td>S</td>\n",
       "      <td>596.0</td>\n",
       "      <td>West, Mr. Edwy Arthur</td>\n",
       "      <td>36.0</td>\n",
       "      <td>Bournemouth, Dorset, England</td>\n",
       "      <td>Southampton</td>\n",
       "      <td>Gainesville, Florida, US</td>\n",
       "      <td>NaN</td>\n",
       "      <td>2.0</td>\n",
       "    </tr>\n",
       "    <tr>\n",
       "      <th>1190</th>\n",
       "      <td>0.0</td>\n",
       "      <td>3</td>\n",
       "      <td>Peduzzi, Mr. Joseph</td>\n",
       "      <td>male</td>\n",
       "      <td>24.0</td>\n",
       "      <td>0</td>\n",
       "      <td>0</td>\n",
       "      <td>A/5 2817</td>\n",
       "      <td>8.0500</td>\n",
       "      <td>NaN</td>\n",
       "      <td>S</td>\n",
       "      <td>1123.0</td>\n",
       "      <td>Peduzzi, Mr. Giuseppe</td>\n",
       "      <td>24.0</td>\n",
       "      <td>London, England</td>\n",
       "      <td>Southampton</td>\n",
       "      <td>New York City</td>\n",
       "      <td>NaN</td>\n",
       "      <td>3.0</td>\n",
       "    </tr>\n",
       "    <tr>\n",
       "      <th>1191</th>\n",
       "      <td>1.0</td>\n",
       "      <td>1</td>\n",
       "      <td>Cherry, Miss. Gladys</td>\n",
       "      <td>female</td>\n",
       "      <td>30.0</td>\n",
       "      <td>0</td>\n",
       "      <td>0</td>\n",
       "      <td>110152</td>\n",
       "      <td>86.5000</td>\n",
       "      <td>B77</td>\n",
       "      <td>S</td>\n",
       "      <td>73.0</td>\n",
       "      <td>Cherry, Miss Gladys</td>\n",
       "      <td>30.0</td>\n",
       "      <td>London, England, UK</td>\n",
       "      <td>Southampton</td>\n",
       "      <td>Vancouver, British Columbia, Canada</td>\n",
       "      <td>8</td>\n",
       "      <td>1.0</td>\n",
       "    </tr>\n",
       "  </tbody>\n",
       "</table>\n",
       "<p>1192 rows × 19 columns</p>\n",
       "</div>"
      ],
      "text/plain": [
       "      survived  p_class                                               name  \\\n",
       "0          0.0        3                                 Lahoud, Mr. Sarkis   \n",
       "1          1.0        3                              Barah, Mr. Hanna Assi   \n",
       "2          0.0        3                            Jensen, Mr. Niels Peder   \n",
       "3          0.0        3                               Stoytcheff, Mr. Ilia   \n",
       "4          0.0        1                             Andrews, Mr. Thomas Jr   \n",
       "...        ...      ...                                                ...   \n",
       "1187       1.0        2  Watt, Mrs. James (Elizabeth \"Bessie\" Inglis Mi...   \n",
       "1188       0.0        3                    Vander Planke, Mr. Leo Edmondus   \n",
       "1189       0.0        2                              West, Mr. Edwy Arthur   \n",
       "1190       0.0        3                                Peduzzi, Mr. Joseph   \n",
       "1191       1.0        1                               Cherry, Miss. Gladys   \n",
       "\n",
       "         sex   age  sib_sp  parch      ticket     fare cabin embarked  \\\n",
       "0       male  24.0       0      0        2624   7.2250   NaN        C   \n",
       "1       male  20.0       0      0        2663   7.2292   NaN        C   \n",
       "2       male  48.0       0      0      350047   7.8542   NaN        S   \n",
       "3       male  19.0       0      0      349205   7.8958   NaN        S   \n",
       "4       male  39.0       0      0      112050   0.0000   A36        S   \n",
       "...      ...   ...     ...    ...         ...      ...   ...      ...   \n",
       "1187  female  40.0       0      0  C.A. 33595  15.7500   NaN        S   \n",
       "1188    male  16.0       2      0      345764  18.0000   NaN        S   \n",
       "1189    male  36.0       1      2  C.A. 34651  27.7500   NaN        S   \n",
       "1190    male  24.0       0      0    A/5 2817   8.0500   NaN        S   \n",
       "1191  female  30.0       0      0      110152  86.5000   B77        S   \n",
       "\n",
       "      wiki_id                                         name_wiki  age_wiki  \\\n",
       "0       949.0                    Lahoud Ishaq Mowad, Mr. Sarkis      30.0   \n",
       "1       852.0                         Hanna, Mr. Borak Suleiman      27.0   \n",
       "2       890.0                  Jensen, Mr. Niels Peder \"Rasmus\"      48.0   \n",
       "3      1234.0                              Stoytcheff, Mr. Ilia      19.0   \n",
       "4        12.0                           Andrews, Mr. Thomas[60]      39.0   \n",
       "...       ...                                               ...       ...   \n",
       "1187    588.0  Watt, Mrs. Elizabeth Inglis \"Bessie\" (née Milne)      40.0   \n",
       "1188   1282.0                   Vanderplancke, Mr. Leo Edmondus      15.0   \n",
       "1189    596.0                             West, Mr. Edwy Arthur      36.0   \n",
       "1190   1123.0                             Peduzzi, Mr. Giuseppe      24.0   \n",
       "1191     73.0                               Cherry, Miss Gladys      30.0   \n",
       "\n",
       "                               hometown      boarded  \\\n",
       "0                      Zgharta, Lebanon    Cherbourg   \n",
       "1                      Hardîne, Lebanon    Cherbourg   \n",
       "2                  Portland, Oregon, US  Southampton   \n",
       "3            Gumostnik, Lovec, Bulgaria  Southampton   \n",
       "4                  Belfast, Ireland, UK      Belfast   \n",
       "...                                 ...          ...   \n",
       "1187  Aberdeen, Aberdeenshire, Scotland  Southampton   \n",
       "1188                 Zwevezele, Belgium  Southampton   \n",
       "1189       Bournemouth, Dorset, England  Southampton   \n",
       "1190                    London, England  Southampton   \n",
       "1191                London, England, UK  Southampton   \n",
       "\n",
       "                              destination lifeboat  class  \n",
       "0              Waterbury, Connecticut, US      NaN    3.0  \n",
       "1          Wilkes-Barre, Pennsylvania, US       15    3.0  \n",
       "2                    Portland, Oregon, US      NaN    3.0  \n",
       "3                   Chicago, Illinois, US      NaN    3.0  \n",
       "4                  New York, New York, US      NaN    1.0  \n",
       "...                                   ...      ...    ...  \n",
       "1187                 Portland, Oregon, US        9    2.0  \n",
       "1188                    Fremont, Ohio, US      NaN    3.0  \n",
       "1189             Gainesville, Florida, US      NaN    2.0  \n",
       "1190                        New York City      NaN    3.0  \n",
       "1191  Vancouver, British Columbia, Canada        8    1.0  \n",
       "\n",
       "[1192 rows x 19 columns]"
      ]
     },
     "execution_count": 17,
     "metadata": {},
     "output_type": "execute_result"
    },
    {
     "data": {
      "application/javascript": "\n            setTimeout(function() {\n                var nbb_cell_id = 17;\n                var nbb_unformatted_code = \"survived_df\";\n                var nbb_formatted_code = \"survived_df\";\n                var nbb_cells = Jupyter.notebook.get_cells();\n                for (var i = 0; i < nbb_cells.length; ++i) {\n                    if (nbb_cells[i].input_prompt_number == nbb_cell_id) {\n                        if (nbb_cells[i].get_text() == nbb_unformatted_code) {\n                             nbb_cells[i].set_text(nbb_formatted_code);\n                        }\n                        break;\n                    }\n                }\n            }, 500);\n            ",
      "text/plain": [
       "<IPython.core.display.Javascript object>"
      ]
     },
     "metadata": {},
     "output_type": "display_data"
    }
   ],
   "source": [
    "survived_df"
   ]
  },
  {
   "cell_type": "code",
   "execution_count": 18,
   "metadata": {},
   "outputs": [
    {
     "data": {
      "text/plain": [
       "array([3, 1, 2], dtype=int64)"
      ]
     },
     "execution_count": 18,
     "metadata": {},
     "output_type": "execute_result"
    },
    {
     "data": {
      "application/javascript": "\n            setTimeout(function() {\n                var nbb_cell_id = 18;\n                var nbb_unformatted_code = \"# # 1.10 fill CABIN nan values\\n\\nsurvived_df['p_class'].unique()\";\n                var nbb_formatted_code = \"# # 1.10 fill CABIN nan values\\n\\nsurvived_df[\\\"p_class\\\"].unique()\";\n                var nbb_cells = Jupyter.notebook.get_cells();\n                for (var i = 0; i < nbb_cells.length; ++i) {\n                    if (nbb_cells[i].input_prompt_number == nbb_cell_id) {\n                        if (nbb_cells[i].get_text() == nbb_unformatted_code) {\n                             nbb_cells[i].set_text(nbb_formatted_code);\n                        }\n                        break;\n                    }\n                }\n            }, 500);\n            ",
      "text/plain": [
       "<IPython.core.display.Javascript object>"
      ]
     },
     "metadata": {},
     "output_type": "display_data"
    }
   ],
   "source": [
    "# # 1.10 fill CABIN nan values\n",
    "\n",
    "survived_df['p_class'].unique()\n",
    "\n"
   ]
  },
  {
   "cell_type": "code",
   "execution_count": 19,
   "metadata": {},
   "outputs": [
    {
     "data": {
      "text/plain": [
       "array(['A36', 'B3', 'A26', 'C62 C64', 'B5', 'A10', 'B18', 'D35',\n",
       "       'C23 C25 C27', 'C99', 'C46', 'E34', 'C126', 'C82', 'A31', 'A23',\n",
       "       'D46', 'C85', 'B96 B98', nan, 'E12', 'D36', 'D21', 'C78', 'D19',\n",
       "       'C83', 'C92', 'D20', 'B39', 'C125', 'D37', 'C2', 'D26', 'E49',\n",
       "       'C22 C26', 'B58 B60', 'E38', 'B94', 'E44', 'B51 B53 B55', 'B28',\n",
       "       'D30', 'C123', 'E17', 'B35', 'B57 B59 B63 B66', 'C70', 'C93',\n",
       "       'D15', 'C65', 'B69', 'A19', 'E67', 'E50', 'A7', 'D28', 'D17',\n",
       "       'C30', 'B101', 'A14', 'B49', 'B37', 'E36', 'A6', 'C68', 'D6',\n",
       "       'C32', 'C106', 'C104', 'C124', 'C50', 'B19', 'C90', 'B78', 'B86',\n",
       "       'E24', 'C103', 'D50', 'B4', 'E8', 'D48', 'C86', 'B20', 'E25',\n",
       "       'E58', 'D49', 'B82 B84', 'D11', 'B102', 'E68', 'E63', 'D9', 'C110',\n",
       "       'C118', 'A16', 'D47', 'E46', 'B22', 'B77', 'A20', 'C49', 'E40',\n",
       "       'D33', 'C148', 'E33', 'C7', 'B42', 'C87', 'B50', 'D10 D12', 'A24',\n",
       "       'C45', 'C47', 'B79', 'C95', 'E31', 'A5', 'B73', 'C101', 'A34',\n",
       "       'B80', 'B30', 'F33', 'C52', 'A32', 'C111', 'D45', 'D7', 'C91',\n",
       "       'B71', 'T', 'C128', 'B38', 'B41', 'C54'], dtype=object)"
      ]
     },
     "execution_count": 19,
     "metadata": {},
     "output_type": "execute_result"
    },
    {
     "data": {
      "application/javascript": "\n            setTimeout(function() {\n                var nbb_cell_id = 19;\n                var nbb_unformatted_code = \"survived_df[survived_df['class'] == 1]['cabin'].unique()\";\n                var nbb_formatted_code = \"survived_df[survived_df[\\\"class\\\"] == 1][\\\"cabin\\\"].unique()\";\n                var nbb_cells = Jupyter.notebook.get_cells();\n                for (var i = 0; i < nbb_cells.length; ++i) {\n                    if (nbb_cells[i].input_prompt_number == nbb_cell_id) {\n                        if (nbb_cells[i].get_text() == nbb_unformatted_code) {\n                             nbb_cells[i].set_text(nbb_formatted_code);\n                        }\n                        break;\n                    }\n                }\n            }, 500);\n            ",
      "text/plain": [
       "<IPython.core.display.Javascript object>"
      ]
     },
     "metadata": {},
     "output_type": "display_data"
    }
   ],
   "source": [
    "survived_df[survived_df['class'] == 1]['cabin'].unique()"
   ]
  },
  {
   "cell_type": "code",
   "execution_count": 20,
   "metadata": {},
   "outputs": [
    {
     "data": {
      "text/plain": [
       "array([nan, 'D', 'E101', 'F33', 'E77', 'D56', 'F4', 'F2'], dtype=object)"
      ]
     },
     "execution_count": 20,
     "metadata": {},
     "output_type": "execute_result"
    },
    {
     "data": {
      "application/javascript": "\n            setTimeout(function() {\n                var nbb_cell_id = 20;\n                var nbb_unformatted_code = \"survived_df[survived_df['class'] == 2]['cabin'].unique()\";\n                var nbb_formatted_code = \"survived_df[survived_df[\\\"class\\\"] == 2][\\\"cabin\\\"].unique()\";\n                var nbb_cells = Jupyter.notebook.get_cells();\n                for (var i = 0; i < nbb_cells.length; ++i) {\n                    if (nbb_cells[i].input_prompt_number == nbb_cell_id) {\n                        if (nbb_cells[i].get_text() == nbb_unformatted_code) {\n                             nbb_cells[i].set_text(nbb_formatted_code);\n                        }\n                        break;\n                    }\n                }\n            }, 500);\n            ",
      "text/plain": [
       "<IPython.core.display.Javascript object>"
      ]
     },
     "metadata": {},
     "output_type": "display_data"
    }
   ],
   "source": [
    "survived_df[survived_df['class'] == 2]['cabin'].unique()"
   ]
  },
  {
   "cell_type": "code",
   "execution_count": 21,
   "metadata": {},
   "outputs": [
    {
     "data": {
      "text/plain": [
       "array([nan, 'G6', 'F G63', 'F38', 'F G73', 'F E69', 'E121', 'E10'],\n",
       "      dtype=object)"
      ]
     },
     "execution_count": 21,
     "metadata": {},
     "output_type": "execute_result"
    },
    {
     "data": {
      "application/javascript": "\n            setTimeout(function() {\n                var nbb_cell_id = 21;\n                var nbb_unformatted_code = \"survived_df[survived_df['class'] == 3]['cabin'].unique()\";\n                var nbb_formatted_code = \"survived_df[survived_df[\\\"class\\\"] == 3][\\\"cabin\\\"].unique()\";\n                var nbb_cells = Jupyter.notebook.get_cells();\n                for (var i = 0; i < nbb_cells.length; ++i) {\n                    if (nbb_cells[i].input_prompt_number == nbb_cell_id) {\n                        if (nbb_cells[i].get_text() == nbb_unformatted_code) {\n                             nbb_cells[i].set_text(nbb_formatted_code);\n                        }\n                        break;\n                    }\n                }\n            }, 500);\n            ",
      "text/plain": [
       "<IPython.core.display.Javascript object>"
      ]
     },
     "metadata": {},
     "output_type": "display_data"
    }
   ],
   "source": [
    "survived_df[survived_df['class'] == 3]['cabin'].unique()"
   ]
  },
  {
   "cell_type": "markdown",
   "metadata": {},
   "source": [
    "looking into the returned values of passenger class. i will impute missing values with:\n",
    "p_class == 1 -> Axx Bxx Cxx\n",
    "p_class == 2 -> Dxx Exx Fxx\n",
    "p_class == 3 -> gxx hxx "
   ]
  },
  {
   "cell_type": "code",
   "execution_count": 26,
   "metadata": {},
   "outputs": [
    {
     "data": {
      "application/javascript": "\n            setTimeout(function() {\n                var nbb_cell_id = 26;\n                var nbb_unformatted_code = \"p_class_1_list = list(survived_df[survived_df['class'] == 1]['cabin'].unique())\\np_class_2_list = list(survived_df[survived_df['class'] == 2]['cabin'].unique())\\np_class_3_list = list(survived_df[survived_df['class'] == 3]['cabin'].unique())\\n\\ncabin_list = list(survived_df['cabin'].unique())\\n\\ndef generate_cabin_number(p_class:int):\\n    if p_class == 1:\\n        generate_letter = np.random.choice(['A','B','C'])\\n        generate_number = str(np.random.randint(1,150))\\n        cabin_number = f'{generate_letter}{generate_number}'\\n        if cabin_number in p_class_1_list:\\n            generate_cabin_number(p_class=p_class)\\n            if cabin_number not in p_class_1_list:\\n                p_class_1_list.append(str(cabin_number))\\n            \\n    if p_class == 2:\\n        generate_letter = np.random.choice(['D','E','F'])\\n        generate_number = str(np.random.randint(1,150))\\n        cabin_number = f'{generate_letter}{generate_number}'\\n        if cabin_number in p_class_2_list:\\n            generate_cabin_number(p_class=p_class)\\n            if cabin_number not in p_class_1_list:\\n                p_class_2_list.append(str(cabin_number))\\n\\n    if p_class == 3:\\n        generate_letter = np.random.choice(['G','H'])\\n        generate_number = str(np.random.randint(1,150))\\n        cabin_number = f'{generate_letter}{generate_number}'\\n        if cabin_number in p_class_3_list:\\n            generate_cabin_number(p_class=p_class)\\n            if cabin_number not in p_class_1_list:\\n                p_class_3_list.append(str(cabin_number))\\n    \\n    return cabin_number\";\n                var nbb_formatted_code = \"p_class_1_list = list(survived_df[survived_df[\\\"class\\\"] == 1][\\\"cabin\\\"].unique())\\np_class_2_list = list(survived_df[survived_df[\\\"class\\\"] == 2][\\\"cabin\\\"].unique())\\np_class_3_list = list(survived_df[survived_df[\\\"class\\\"] == 3][\\\"cabin\\\"].unique())\\n\\ncabin_list = list(survived_df[\\\"cabin\\\"].unique())\\n\\n\\ndef generate_cabin_number(p_class: int):\\n    if p_class == 1:\\n        generate_letter = np.random.choice([\\\"A\\\", \\\"B\\\", \\\"C\\\"])\\n        generate_number = str(np.random.randint(1, 150))\\n        cabin_number = f\\\"{generate_letter}{generate_number}\\\"\\n        if cabin_number in p_class_1_list:\\n            generate_cabin_number(p_class=p_class)\\n            if cabin_number not in p_class_1_list:\\n                p_class_1_list.append(str(cabin_number))\\n\\n    if p_class == 2:\\n        generate_letter = np.random.choice([\\\"D\\\", \\\"E\\\", \\\"F\\\"])\\n        generate_number = str(np.random.randint(1, 150))\\n        cabin_number = f\\\"{generate_letter}{generate_number}\\\"\\n        if cabin_number in p_class_2_list:\\n            generate_cabin_number(p_class=p_class)\\n            if cabin_number not in p_class_1_list:\\n                p_class_2_list.append(str(cabin_number))\\n\\n    if p_class == 3:\\n        generate_letter = np.random.choice([\\\"G\\\", \\\"H\\\"])\\n        generate_number = str(np.random.randint(1, 150))\\n        cabin_number = f\\\"{generate_letter}{generate_number}\\\"\\n        if cabin_number in p_class_3_list:\\n            generate_cabin_number(p_class=p_class)\\n            if cabin_number not in p_class_1_list:\\n                p_class_3_list.append(str(cabin_number))\\n\\n    return cabin_number\";\n                var nbb_cells = Jupyter.notebook.get_cells();\n                for (var i = 0; i < nbb_cells.length; ++i) {\n                    if (nbb_cells[i].input_prompt_number == nbb_cell_id) {\n                        if (nbb_cells[i].get_text() == nbb_unformatted_code) {\n                             nbb_cells[i].set_text(nbb_formatted_code);\n                        }\n                        break;\n                    }\n                }\n            }, 500);\n            ",
      "text/plain": [
       "<IPython.core.display.Javascript object>"
      ]
     },
     "metadata": {},
     "output_type": "display_data"
    }
   ],
   "source": [
    "p_class_1_list = list(survived_df[survived_df['class'] == 1]['cabin'].unique())\n",
    "p_class_2_list = list(survived_df[survived_df['class'] == 2]['cabin'].unique())\n",
    "p_class_3_list = list(survived_df[survived_df['class'] == 3]['cabin'].unique())\n",
    "\n",
    "def generate_cabin_number(p_class:int):\n",
    "    if p_class == 1:\n",
    "        generate_letter = np.random.choice(['A','B','C'])\n",
    "        generate_number = str(np.random.randint(1,150))\n",
    "        cabin_number = f'{generate_letter}{generate_number}'\n",
    "        if cabin_number in p_class_1_list:\n",
    "            generate_cabin_number(p_class=p_class)\n",
    "            if cabin_number not in p_class_1_list:\n",
    "                p_class_1_list.append(str(cabin_number))\n",
    "            \n",
    "    if p_class == 2:\n",
    "        generate_letter = np.random.choice(['D','E','F'])\n",
    "        generate_number = str(np.random.randint(1,150))\n",
    "        cabin_number = f'{generate_letter}{generate_number}'\n",
    "        if cabin_number in p_class_2_list:\n",
    "            generate_cabin_number(p_class=p_class)\n",
    "            if cabin_number not in p_class_1_list:\n",
    "                p_class_2_list.append(str(cabin_number))\n",
    "\n",
    "    if p_class == 3:\n",
    "        generate_letter = np.random.choice(['G','H'])\n",
    "        generate_number = str(np.random.randint(1,150))\n",
    "        cabin_number = f'{generate_letter}{generate_number}'\n",
    "        if cabin_number in p_class_3_list:\n",
    "            generate_cabin_number(p_class=p_class)\n",
    "            if cabin_number not in p_class_1_list:\n",
    "                p_class_3_list.append(str(cabin_number))\n",
    "    \n",
    "    return cabin_number\n",
    "\n"
   ]
  },
  {
   "cell_type": "code",
   "execution_count": 28,
   "metadata": {},
   "outputs": [
    {
     "name": "stderr",
     "output_type": "stream",
     "text": [
      "C:\\Users\\MantasP\\AppData\\Local\\Temp\\ipykernel_9944\\867818688.py:1: SettingWithCopyWarning: \n",
      "A value is trying to be set on a copy of a slice from a DataFrame.\n",
      "Try using .loc[row_indexer,col_indexer] = value instead\n",
      "\n",
      "See the caveats in the documentation: https://pandas.pydata.org/pandas-docs/stable/user_guide/indexing.html#returning-a-view-versus-a-copy\n",
      "  survived_df['cabin'] = survived_df.apply(lambda x : x['cabin'] if x['cabin'] == x['cabin'] else generate_cabin_number(x['p_class']), axis=1)\n"
     ]
    },
    {
     "data": {
      "application/javascript": "\n            setTimeout(function() {\n                var nbb_cell_id = 28;\n                var nbb_unformatted_code = \"survived_df['cabin'] = survived_df.apply(lambda x : x['cabin'] if x['cabin'] == x['cabin'] else generate_cabin_number(x['p_class']), axis=1)\";\n                var nbb_formatted_code = \"survived_df[\\\"cabin\\\"] = survived_df.apply(\\n    lambda x: x[\\\"cabin\\\"]\\n    if x[\\\"cabin\\\"] == x[\\\"cabin\\\"]\\n    else generate_cabin_number(x[\\\"p_class\\\"]),\\n    axis=1,\\n)\";\n                var nbb_cells = Jupyter.notebook.get_cells();\n                for (var i = 0; i < nbb_cells.length; ++i) {\n                    if (nbb_cells[i].input_prompt_number == nbb_cell_id) {\n                        if (nbb_cells[i].get_text() == nbb_unformatted_code) {\n                             nbb_cells[i].set_text(nbb_formatted_code);\n                        }\n                        break;\n                    }\n                }\n            }, 500);\n            ",
      "text/plain": [
       "<IPython.core.display.Javascript object>"
      ]
     },
     "metadata": {},
     "output_type": "display_data"
    }
   ],
   "source": [
    "survived_df['cabin'] = survived_df.apply(lambda x : x['cabin'] if x['cabin'] == x['cabin'] else generate_cabin_number(x['p_class']), axis=1)"
   ]
  },
  {
   "cell_type": "code",
   "execution_count": null,
   "metadata": {},
   "outputs": [],
   "source": []
  },
  {
   "cell_type": "code",
   "execution_count": null,
   "metadata": {},
   "outputs": [],
   "source": []
  },
  {
   "cell_type": "code",
   "execution_count": null,
   "metadata": {},
   "outputs": [],
   "source": []
  }
 ],
 "metadata": {
  "kernelspec": {
   "display_name": "Python 3.10.8 ('.venv': venv)",
   "language": "python",
   "name": "python3"
  },
  "language_info": {
   "codemirror_mode": {
    "name": "ipython",
    "version": 3
   },
   "file_extension": ".py",
   "mimetype": "text/x-python",
   "name": "python",
   "nbconvert_exporter": "python",
   "pygments_lexer": "ipython3",
   "version": "3.10.8"
  },
  "orig_nbformat": 4,
  "vscode": {
   "interpreter": {
    "hash": "12cc0ea7f35e17d71e506b2ac11498779c1ccd748b0a73a5268e4dec89c6b9d9"
   }
  }
 },
 "nbformat": 4,
 "nbformat_minor": 2
}
